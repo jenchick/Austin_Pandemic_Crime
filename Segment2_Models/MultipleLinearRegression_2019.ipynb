{
 "cells": [
  {
   "cell_type": "code",
   "execution_count": 1,
   "id": "3c29a67e",
   "metadata": {},
   "outputs": [],
   "source": [
    "# Import dependencies \n",
    "import pandas as pd \n",
    "from pathlib import Path\n",
    "from sklearn.linear_model import LinearRegression\n",
    "from sklearn import linear_model\n",
    "from sklearn.metrics import r2_score\n",
    "import numpy as np\n",
    "import datetime\n",
    "from sklearn.preprocessing import LabelEncoder\n",
    "from sklearn.model_selection import train_test_split\n",
    "import sqlalchemy\n",
    "from sqlalchemy.ext.automap import automap_base\n",
    "from sqlalchemy.orm import session\n",
    "from sqlalchemy import create_engine, func"
   ]
  },
  {
   "cell_type": "code",
   "execution_count": 2,
   "id": "3ea7f015",
   "metadata": {},
   "outputs": [
    {
     "data": {
      "text/html": [
       "<div>\n",
       "<style scoped>\n",
       "    .dataframe tbody tr th:only-of-type {\n",
       "        vertical-align: middle;\n",
       "    }\n",
       "\n",
       "    .dataframe tbody tr th {\n",
       "        vertical-align: top;\n",
       "    }\n",
       "\n",
       "    .dataframe thead th {\n",
       "        text-align: right;\n",
       "    }\n",
       "</style>\n",
       "<table border=\"1\" class=\"dataframe\">\n",
       "  <thead>\n",
       "    <tr style=\"text-align: right;\">\n",
       "      <th></th>\n",
       "      <th>incident_number</th>\n",
       "      <th>offense_description</th>\n",
       "      <th>family_violence</th>\n",
       "      <th>date</th>\n",
       "      <th>location_type</th>\n",
       "      <th>zipcode</th>\n",
       "      <th>category_description</th>\n",
       "    </tr>\n",
       "  </thead>\n",
       "  <tbody>\n",
       "    <tr>\n",
       "      <th>0</th>\n",
       "      <td>20191550153</td>\n",
       "      <td>DEADLY CONDUCT</td>\n",
       "      <td>N</td>\n",
       "      <td>2019-06-04</td>\n",
       "      <td>RESIDENCE / HOME</td>\n",
       "      <td>78753</td>\n",
       "      <td>Aggravated Assault</td>\n",
       "    </tr>\n",
       "    <tr>\n",
       "      <th>1</th>\n",
       "      <td>20195022816</td>\n",
       "      <td>THEFT OF LICENSE PLATE</td>\n",
       "      <td>N</td>\n",
       "      <td>2019-06-03</td>\n",
       "      <td>RESIDENCE / HOME</td>\n",
       "      <td>78745</td>\n",
       "      <td>Theft</td>\n",
       "    </tr>\n",
       "    <tr>\n",
       "      <th>2</th>\n",
       "      <td>20191671388</td>\n",
       "      <td>BURGLARY OF RESIDENCE</td>\n",
       "      <td>N</td>\n",
       "      <td>2019-06-14</td>\n",
       "      <td>RESIDENCE / HOME</td>\n",
       "      <td>78731</td>\n",
       "      <td>Burglary</td>\n",
       "    </tr>\n",
       "    <tr>\n",
       "      <th>3</th>\n",
       "      <td>20195022771</td>\n",
       "      <td>THEFT FROM AUTO</td>\n",
       "      <td>N</td>\n",
       "      <td>2019-06-04</td>\n",
       "      <td>RESIDENCE / HOME</td>\n",
       "      <td>78754</td>\n",
       "      <td>Theft</td>\n",
       "    </tr>\n",
       "    <tr>\n",
       "      <th>4</th>\n",
       "      <td>20191491199</td>\n",
       "      <td>BURGLARY OF RESIDENCE</td>\n",
       "      <td>N</td>\n",
       "      <td>2019-05-22</td>\n",
       "      <td>RESIDENCE / HOME</td>\n",
       "      <td>78756</td>\n",
       "      <td>Burglary</td>\n",
       "    </tr>\n",
       "    <tr>\n",
       "      <th>5</th>\n",
       "      <td>20195017021</td>\n",
       "      <td>THEFT</td>\n",
       "      <td>N</td>\n",
       "      <td>2019-04-26</td>\n",
       "      <td>RESIDENCE / HOME</td>\n",
       "      <td>78758</td>\n",
       "      <td>Theft</td>\n",
       "    </tr>\n",
       "    <tr>\n",
       "      <th>6</th>\n",
       "      <td>2019981206</td>\n",
       "      <td>BREACH OF COMPUTER SECURITY</td>\n",
       "      <td>N</td>\n",
       "      <td>2019-04-08</td>\n",
       "      <td>COMMERCIAL / OFFICE BUILDING</td>\n",
       "      <td>78701</td>\n",
       "      <td>Theft</td>\n",
       "    </tr>\n",
       "    <tr>\n",
       "      <th>7</th>\n",
       "      <td>2019421100</td>\n",
       "      <td>THEFT</td>\n",
       "      <td>N</td>\n",
       "      <td>2019-02-11</td>\n",
       "      <td>RESIDENCE / HOME</td>\n",
       "      <td>78749</td>\n",
       "      <td>Theft</td>\n",
       "    </tr>\n",
       "    <tr>\n",
       "      <th>8</th>\n",
       "      <td>20195037471</td>\n",
       "      <td>BURGLARY OF VEHICLE</td>\n",
       "      <td>N</td>\n",
       "      <td>2019-09-11</td>\n",
       "      <td>RESIDENCE / HOME</td>\n",
       "      <td>78754</td>\n",
       "      <td>Theft</td>\n",
       "    </tr>\n",
       "    <tr>\n",
       "      <th>9</th>\n",
       "      <td>20191500615</td>\n",
       "      <td>BURGLARY OF RESIDENCE</td>\n",
       "      <td>N</td>\n",
       "      <td>2019-05-29</td>\n",
       "      <td>RESIDENCE / HOME</td>\n",
       "      <td>78741</td>\n",
       "      <td>Burglary</td>\n",
       "    </tr>\n",
       "  </tbody>\n",
       "</table>\n",
       "</div>"
      ],
      "text/plain": [
       "   incident_number          offense_description family_violence        date  \\\n",
       "0      20191550153               DEADLY CONDUCT               N  2019-06-04   \n",
       "1      20195022816       THEFT OF LICENSE PLATE               N  2019-06-03   \n",
       "2      20191671388        BURGLARY OF RESIDENCE               N  2019-06-14   \n",
       "3      20195022771              THEFT FROM AUTO               N  2019-06-04   \n",
       "4      20191491199        BURGLARY OF RESIDENCE               N  2019-05-22   \n",
       "5      20195017021                        THEFT               N  2019-04-26   \n",
       "6       2019981206  BREACH OF COMPUTER SECURITY               N  2019-04-08   \n",
       "7       2019421100                        THEFT               N  2019-02-11   \n",
       "8      20195037471          BURGLARY OF VEHICLE               N  2019-09-11   \n",
       "9      20191500615        BURGLARY OF RESIDENCE               N  2019-05-29   \n",
       "\n",
       "                  location_type  zipcode category_description  \n",
       "0              RESIDENCE / HOME    78753   Aggravated Assault  \n",
       "1              RESIDENCE / HOME    78745                Theft  \n",
       "2              RESIDENCE / HOME    78731             Burglary  \n",
       "3              RESIDENCE / HOME    78754                Theft  \n",
       "4              RESIDENCE / HOME    78756             Burglary  \n",
       "5              RESIDENCE / HOME    78758                Theft  \n",
       "6  COMMERCIAL / OFFICE BUILDING    78701                Theft  \n",
       "7              RESIDENCE / HOME    78749                Theft  \n",
       "8              RESIDENCE / HOME    78754                Theft  \n",
       "9              RESIDENCE / HOME    78741             Burglary  "
      ]
     },
     "execution_count": 2,
     "metadata": {},
     "output_type": "execute_result"
    }
   ],
   "source": [
    "file_path = 'crime_data_2019.csv'\n",
    "crime_df= pd.read_csv(file_path)\n",
    "crime_df.head(10)"
   ]
  },
  {
   "cell_type": "code",
   "execution_count": 3,
   "id": "a5dfbfa1",
   "metadata": {},
   "outputs": [
    {
     "data": {
      "text/plain": [
       "incident_number          int64\n",
       "offense_description     object\n",
       "family_violence         object\n",
       "date                    object\n",
       "location_type           object\n",
       "zipcode                  int64\n",
       "category_description    object\n",
       "dtype: object"
      ]
     },
     "execution_count": 3,
     "metadata": {},
     "output_type": "execute_result"
    }
   ],
   "source": [
    "# Check data types\n",
    "crime_df.dtypes"
   ]
  },
  {
   "cell_type": "code",
   "execution_count": 4,
   "id": "6a6a9ce2",
   "metadata": {},
   "outputs": [
    {
     "data": {
      "text/plain": [
       "0        20190604\n",
       "1        20190603\n",
       "2        20190614\n",
       "3        20190604\n",
       "4        20190522\n",
       "           ...   \n",
       "40153    20191207\n",
       "40154    20190724\n",
       "40155    20190401\n",
       "40156    20190601\n",
       "40157    20190507\n",
       "Name: date, Length: 40158, dtype: int64"
      ]
     },
     "execution_count": 4,
     "metadata": {},
     "output_type": "execute_result"
    }
   ],
   "source": [
    "# Convert date to int\n",
    "crime_df['date'].str.replace(\"-\",\"\").astype(int)"
   ]
  },
  {
   "cell_type": "code",
   "execution_count": 5,
   "id": "5b4230fc",
   "metadata": {},
   "outputs": [],
   "source": [
    "# Set x and y\n",
    "X = crime_df[['zipcode']]\n",
    "y = crime_df[['incident_number']]"
   ]
  },
  {
   "cell_type": "code",
   "execution_count": 6,
   "id": "5e873746",
   "metadata": {},
   "outputs": [],
   "source": [
    "# Split into train and test sets, with 70, 30 split\n",
    "X_train, X_test, y_train, y_test = train_test_split (X,y, random_state = 75, train_size=0.70)"
   ]
  },
  {
   "cell_type": "code",
   "execution_count": 7,
   "id": "32419da8",
   "metadata": {},
   "outputs": [],
   "source": [
    "# Create model\n",
    "precovid_model = LinearRegression()"
   ]
  },
  {
   "cell_type": "code",
   "execution_count": 8,
   "id": "ee2160cf",
   "metadata": {},
   "outputs": [
    {
     "data": {
      "text/plain": [
       "LinearRegression()"
      ]
     },
     "execution_count": 8,
     "metadata": {},
     "output_type": "execute_result"
    }
   ],
   "source": [
    "# Fit model \n",
    "precovid_model.fit(X,y)"
   ]
  },
  {
   "cell_type": "code",
   "execution_count": 9,
   "id": "e08b058e",
   "metadata": {},
   "outputs": [
    {
     "name": "stdout",
     "output_type": "stream",
     "text": [
      "(12048, 1)\n"
     ]
    }
   ],
   "source": [
    "# Predict the model\n",
    "pred = precovid_model.predict(X_test)\n",
    "print(pred.shape)"
   ]
  },
  {
   "cell_type": "code",
   "execution_count": 10,
   "id": "dfcc586b",
   "metadata": {},
   "outputs": [
    {
     "name": "stdout",
     "output_type": "stream",
     "text": [
      "[[-4096827.17512513]]\n",
      "[3.40621474e+11]\n"
     ]
    }
   ],
   "source": [
    "# Print model parameters\n",
    "print(precovid_model.coef_)\n",
    "print(precovid_model.intercept_)"
   ]
  },
  {
   "cell_type": "code",
   "execution_count": 11,
   "id": "950476cb",
   "metadata": {},
   "outputs": [
    {
     "name": "stdout",
     "output_type": "stream",
     "text": [
      "0.0001930527339120136\n"
     ]
    }
   ],
   "source": [
    "# Print rsquared\n",
    "r_squared = r2_score(y_test, pred)\n",
    "print(r_squared)"
   ]
  }
 ],
 "metadata": {
  "kernelspec": {
   "display_name": "mlenv",
   "language": "python",
   "name": "mlenv"
  },
  "language_info": {
   "codemirror_mode": {
    "name": "ipython",
    "version": 3
   },
   "file_extension": ".py",
   "mimetype": "text/x-python",
   "name": "python",
   "nbconvert_exporter": "python",
   "pygments_lexer": "ipython3",
   "version": "3.7.13"
  }
 },
 "nbformat": 4,
 "nbformat_minor": 5
}
